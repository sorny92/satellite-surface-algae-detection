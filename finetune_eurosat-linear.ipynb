version https://git-lfs.github.com/spec/v1
oid sha256:c80b82964fc2269a9181f3f37f747c783232967cf7412e5a3df31eb4406df4cd
size 676101
