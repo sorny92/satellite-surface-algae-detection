version https://git-lfs.github.com/spec/v1
oid sha256:583fff86932b68f73346b6edf48760edc40cd2674b27d867aef802cb9103b029
size 14129
