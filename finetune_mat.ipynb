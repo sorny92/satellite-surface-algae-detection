version https://git-lfs.github.com/spec/v1
oid sha256:ec5ff6a4ec92f5e93e20cea97d7e8722f38173f8a65f483f81784244f4ac27aa
size 14655
