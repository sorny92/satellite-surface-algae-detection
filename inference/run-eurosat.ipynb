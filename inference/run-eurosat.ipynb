version https://git-lfs.github.com/spec/v1
oid sha256:63cbefa98dba3c3b3dc95cef5d631fd9b00fc60ec0a541cfb15128504239c93b
size 515422
