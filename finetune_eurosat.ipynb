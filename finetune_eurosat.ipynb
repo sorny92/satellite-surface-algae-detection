version https://git-lfs.github.com/spec/v1
oid sha256:e425e108a3bd1b43cd562f38e359dc1335fb8fa6f82e6dd7ba06d19805585804
size 676602
