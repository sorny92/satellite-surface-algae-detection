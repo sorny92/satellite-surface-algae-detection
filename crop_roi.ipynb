version https://git-lfs.github.com/spec/v1
oid sha256:feb23fabd4c613ccca8f001efd3b713de941199fc7b8450786ee28a4be065bb4
size 730387
