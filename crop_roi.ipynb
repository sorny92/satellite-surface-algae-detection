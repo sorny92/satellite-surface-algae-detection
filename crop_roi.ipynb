version https://git-lfs.github.com/spec/v1
oid sha256:0eda960e193d820d5e5da0ec523c91d3e64612d939a7a11d347d5dc458124f92
size 262228
