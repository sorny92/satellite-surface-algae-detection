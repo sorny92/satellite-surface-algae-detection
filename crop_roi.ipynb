version https://git-lfs.github.com/spec/v1
oid sha256:df01dd131c903292ddb64023bfbf43f4f5dae84fb2140da5ea12de6783aa4ac7
size 8373
