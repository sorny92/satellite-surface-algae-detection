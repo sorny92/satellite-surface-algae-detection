version https://git-lfs.github.com/spec/v1
oid sha256:d4a81368ba7218c33f1e6ebd359d09f524b358d7dcc0b0a212d972b91223af90
size 629700
